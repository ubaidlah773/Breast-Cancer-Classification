{
  "nbformat": 4,
  "nbformat_minor": 0,
  "metadata": {
    "colab": {
      "provenance": []
    },
    "kernelspec": {
      "name": "python3",
      "display_name": "Python 3"
    },
    "language_info": {
      "name": "python"
    }
  },
  "cells": [
    {
      "cell_type": "code",
      "execution_count": null,
      "metadata": {
        "id": "WvSy61bykxza"
      },
      "outputs": [],
      "source": [
        "import numpy as np\n",
        "import matplotlib.pyplot as plt\n",
        "import pandas as pd\n",
        "\n",
        "dataset = pd.read_csv('/content/drive/MyDrive/AI/data.csv')"
      ]
    },
    {
      "cell_type": "code",
      "source": [
        "def dataSetAnalysis(df):\n",
        "    #view starting values of data set\n",
        "    print(\"Dataset Head\")\n",
        "    print(df.head(3))\n",
        "    print(\"=\" * 30)\n",
        "\n",
        "    # View features in data set\n",
        "    print(\"Dataset Features\")\n",
        "    print(df.columns.values)\n",
        "    print(\"=\" * 30)\n",
        "\n",
        "    # View How many samples and how many missing values for each feature\n",
        "    print(\"Dataset Features Details\")\n",
        "    print(df.info())\n",
        "    print(\"=\" * 30)\n",
        "\n",
        "    # view distribution of numerical features across the data set\n",
        "    print(\"Dataset Numerical Features\")\n",
        "    print(df.describe())\n",
        "    print(\"=\" * 30)\n",
        "\n",
        "    # view distribution of categorical features across the data set\n",
        "    print(\"Dataset Categorical Features\")\n",
        "    print(df.describe(include=['O']))\n",
        "    print(\"=\" * 30)\n",
        "\n",
        "dataSetAnalysis(dataset)"
      ],
      "metadata": {
        "colab": {
          "base_uri": "https://localhost:8080/"
        },
        "id": "drfA5GASlbX6",
        "outputId": "9a889530-4673-4f64-d263-54ffefb4f19d"
      },
      "execution_count": null,
      "outputs": [
        {
          "output_type": "stream",
          "name": "stdout",
          "text": [
            "Dataset Head\n",
            "         id diagnosis  radius_mean  texture_mean  perimeter_mean  area_mean  \\\n",
            "0    842302         M        17.99         10.38           122.8     1001.0   \n",
            "1    842517         M        20.57         17.77           132.9     1326.0   \n",
            "2  84300903         M        19.69         21.25           130.0     1203.0   \n",
            "\n",
            "   smoothness_mean  compactness_mean  concavity_mean  concave points_mean  \\\n",
            "0          0.11840           0.27760          0.3001              0.14710   \n",
            "1          0.08474           0.07864          0.0869              0.07017   \n",
            "2          0.10960           0.15990          0.1974              0.12790   \n",
            "\n",
            "   ...  texture_worst  perimeter_worst  area_worst  smoothness_worst  \\\n",
            "0  ...          17.33            184.6      2019.0            0.1622   \n",
            "1  ...          23.41            158.8      1956.0            0.1238   \n",
            "2  ...          25.53            152.5      1709.0            0.1444   \n",
            "\n",
            "   compactness_worst  concavity_worst  concave points_worst  symmetry_worst  \\\n",
            "0             0.6656           0.7119                0.2654          0.4601   \n",
            "1             0.1866           0.2416                0.1860          0.2750   \n",
            "2             0.4245           0.4504                0.2430          0.3613   \n",
            "\n",
            "   fractal_dimension_worst  Unnamed: 32  \n",
            "0                  0.11890          NaN  \n",
            "1                  0.08902          NaN  \n",
            "2                  0.08758          NaN  \n",
            "\n",
            "[3 rows x 33 columns]\n",
            "==============================\n",
            "Dataset Features\n",
            "['id' 'diagnosis' 'radius_mean' 'texture_mean' 'perimeter_mean'\n",
            " 'area_mean' 'smoothness_mean' 'compactness_mean' 'concavity_mean'\n",
            " 'concave points_mean' 'symmetry_mean' 'fractal_dimension_mean'\n",
            " 'radius_se' 'texture_se' 'perimeter_se' 'area_se' 'smoothness_se'\n",
            " 'compactness_se' 'concavity_se' 'concave points_se' 'symmetry_se'\n",
            " 'fractal_dimension_se' 'radius_worst' 'texture_worst' 'perimeter_worst'\n",
            " 'area_worst' 'smoothness_worst' 'compactness_worst' 'concavity_worst'\n",
            " 'concave points_worst' 'symmetry_worst' 'fractal_dimension_worst'\n",
            " 'Unnamed: 32']\n",
            "==============================\n",
            "Dataset Features Details\n",
            "<class 'pandas.core.frame.DataFrame'>\n",
            "RangeIndex: 569 entries, 0 to 568\n",
            "Data columns (total 33 columns):\n",
            " #   Column                   Non-Null Count  Dtype  \n",
            "---  ------                   --------------  -----  \n",
            " 0   id                       569 non-null    int64  \n",
            " 1   diagnosis                569 non-null    object \n",
            " 2   radius_mean              569 non-null    float64\n",
            " 3   texture_mean             569 non-null    float64\n",
            " 4   perimeter_mean           569 non-null    float64\n",
            " 5   area_mean                569 non-null    float64\n",
            " 6   smoothness_mean          569 non-null    float64\n",
            " 7   compactness_mean         569 non-null    float64\n",
            " 8   concavity_mean           569 non-null    float64\n",
            " 9   concave points_mean      569 non-null    float64\n",
            " 10  symmetry_mean            569 non-null    float64\n",
            " 11  fractal_dimension_mean   569 non-null    float64\n",
            " 12  radius_se                569 non-null    float64\n",
            " 13  texture_se               569 non-null    float64\n",
            " 14  perimeter_se             569 non-null    float64\n",
            " 15  area_se                  569 non-null    float64\n",
            " 16  smoothness_se            569 non-null    float64\n",
            " 17  compactness_se           569 non-null    float64\n",
            " 18  concavity_se             569 non-null    float64\n",
            " 19  concave points_se        569 non-null    float64\n",
            " 20  symmetry_se              569 non-null    float64\n",
            " 21  fractal_dimension_se     569 non-null    float64\n",
            " 22  radius_worst             569 non-null    float64\n",
            " 23  texture_worst            569 non-null    float64\n",
            " 24  perimeter_worst          569 non-null    float64\n",
            " 25  area_worst               569 non-null    float64\n",
            " 26  smoothness_worst         569 non-null    float64\n",
            " 27  compactness_worst        569 non-null    float64\n",
            " 28  concavity_worst          569 non-null    float64\n",
            " 29  concave points_worst     569 non-null    float64\n",
            " 30  symmetry_worst           569 non-null    float64\n",
            " 31  fractal_dimension_worst  569 non-null    float64\n",
            " 32  Unnamed: 32              0 non-null      float64\n",
            "dtypes: float64(31), int64(1), object(1)\n",
            "memory usage: 146.8+ KB\n",
            "None\n",
            "==============================\n",
            "Dataset Numerical Features\n",
            "                 id  radius_mean  texture_mean  perimeter_mean    area_mean  \\\n",
            "count  5.690000e+02   569.000000    569.000000      569.000000   569.000000   \n",
            "mean   3.037183e+07    14.127292     19.289649       91.969033   654.889104   \n",
            "std    1.250206e+08     3.524049      4.301036       24.298981   351.914129   \n",
            "min    8.670000e+03     6.981000      9.710000       43.790000   143.500000   \n",
            "25%    8.692180e+05    11.700000     16.170000       75.170000   420.300000   \n",
            "50%    9.060240e+05    13.370000     18.840000       86.240000   551.100000   \n",
            "75%    8.813129e+06    15.780000     21.800000      104.100000   782.700000   \n",
            "max    9.113205e+08    28.110000     39.280000      188.500000  2501.000000   \n",
            "\n",
            "       smoothness_mean  compactness_mean  concavity_mean  concave points_mean  \\\n",
            "count       569.000000        569.000000      569.000000           569.000000   \n",
            "mean          0.096360          0.104341        0.088799             0.048919   \n",
            "std           0.014064          0.052813        0.079720             0.038803   \n",
            "min           0.052630          0.019380        0.000000             0.000000   \n",
            "25%           0.086370          0.064920        0.029560             0.020310   \n",
            "50%           0.095870          0.092630        0.061540             0.033500   \n",
            "75%           0.105300          0.130400        0.130700             0.074000   \n",
            "max           0.163400          0.345400        0.426800             0.201200   \n",
            "\n",
            "       symmetry_mean  ...  texture_worst  perimeter_worst   area_worst  \\\n",
            "count     569.000000  ...     569.000000       569.000000   569.000000   \n",
            "mean        0.181162  ...      25.677223       107.261213   880.583128   \n",
            "std         0.027414  ...       6.146258        33.602542   569.356993   \n",
            "min         0.106000  ...      12.020000        50.410000   185.200000   \n",
            "25%         0.161900  ...      21.080000        84.110000   515.300000   \n",
            "50%         0.179200  ...      25.410000        97.660000   686.500000   \n",
            "75%         0.195700  ...      29.720000       125.400000  1084.000000   \n",
            "max         0.304000  ...      49.540000       251.200000  4254.000000   \n",
            "\n",
            "       smoothness_worst  compactness_worst  concavity_worst  \\\n",
            "count        569.000000         569.000000       569.000000   \n",
            "mean           0.132369           0.254265         0.272188   \n",
            "std            0.022832           0.157336         0.208624   \n",
            "min            0.071170           0.027290         0.000000   \n",
            "25%            0.116600           0.147200         0.114500   \n",
            "50%            0.131300           0.211900         0.226700   \n",
            "75%            0.146000           0.339100         0.382900   \n",
            "max            0.222600           1.058000         1.252000   \n",
            "\n",
            "       concave points_worst  symmetry_worst  fractal_dimension_worst  \\\n",
            "count            569.000000      569.000000               569.000000   \n",
            "mean               0.114606        0.290076                 0.083946   \n",
            "std                0.065732        0.061867                 0.018061   \n",
            "min                0.000000        0.156500                 0.055040   \n",
            "25%                0.064930        0.250400                 0.071460   \n",
            "50%                0.099930        0.282200                 0.080040   \n",
            "75%                0.161400        0.317900                 0.092080   \n",
            "max                0.291000        0.663800                 0.207500   \n",
            "\n",
            "       Unnamed: 32  \n",
            "count          0.0  \n",
            "mean           NaN  \n",
            "std            NaN  \n",
            "min            NaN  \n",
            "25%            NaN  \n",
            "50%            NaN  \n",
            "75%            NaN  \n",
            "max            NaN  \n",
            "\n",
            "[8 rows x 32 columns]\n",
            "==============================\n",
            "Dataset Categorical Features\n",
            "       diagnosis\n",
            "count        569\n",
            "unique         2\n",
            "top            B\n",
            "freq         357\n",
            "==============================\n"
          ]
        }
      ]
    },
    {
      "cell_type": "code",
      "source": [
        "X = dataset.iloc[:,2:32] # [all rows, col from index 2 to the last one excluding 'Unnamed: 32']\n",
        "y = dataset.iloc[:,1] # [all rows, col one only which contains the classes of cancer]"
      ],
      "metadata": {
        "id": "No2lgkfsleTK"
      },
      "execution_count": null,
      "outputs": []
    },
    {
      "cell_type": "code",
      "source": [
        "from sklearn.preprocessing import LabelEncoder\n",
        "\n",
        "print(\"Before encoding: \")\n",
        "print(y[100:110])\n",
        "\n",
        "labelencoder_Y = LabelEncoder()\n",
        "y = labelencoder_Y.fit_transform(y)\n",
        "\n",
        "print(\"\\nAfter encoding: \")\n",
        "print(y[100:110])"
      ],
      "metadata": {
        "colab": {
          "base_uri": "https://localhost:8080/"
        },
        "id": "mAey2PPYlirQ",
        "outputId": "ebea4e16-37d5-475d-fb29-14c9ef039dc1"
      },
      "execution_count": null,
      "outputs": [
        {
          "output_type": "stream",
          "name": "stdout",
          "text": [
            "Before encoding: \n",
            "100    M\n",
            "101    B\n",
            "102    B\n",
            "103    B\n",
            "104    B\n",
            "105    M\n",
            "106    B\n",
            "107    B\n",
            "108    M\n",
            "109    B\n",
            "Name: diagnosis, dtype: object\n",
            "\n",
            "After encoding: \n",
            "[1 0 0 0 0 1 0 0 1 0]\n"
          ]
        }
      ]
    },
    {
      "cell_type": "code",
      "source": [
        "from sklearn.model_selection import train_test_split\n",
        "\n",
        "X_train, X_test, y_train, y_test = train_test_split(X, y, test_size = 0.2, random_state = 0)"
      ],
      "metadata": {
        "id": "RmqvktRClnxn"
      },
      "execution_count": null,
      "outputs": []
    },
    {
      "cell_type": "code",
      "source": [
        "from sklearn.preprocessing import StandardScaler\n",
        "\n",
        "sc = StandardScaler()\n",
        "X_train = sc.fit_transform(X_train)\n",
        "X_test = sc.transform(X_test)"
      ],
      "metadata": {
        "id": "0Hu4FDxwlp-1"
      },
      "execution_count": null,
      "outputs": []
    },
    {
      "cell_type": "code",
      "source": [
        "from keras.models import Sequential\n",
        "from keras.layers import Dense\n",
        "\n",
        "classifier = Sequential() # Initialising the ANN\n",
        "\n",
        "classifier.add(Dense(units = 16, kernel_initializer = 'uniform', activation = 'relu', input_dim = 30))\n",
        "classifier.add(Dense(units = 8, kernel_initializer = 'uniform', activation = 'relu'))\n",
        "classifier.add(Dense(units = 6, kernel_initializer = 'uniform', activation = 'relu'))\n",
        "classifier.add(Dense(units = 1, kernel_initializer = 'uniform', activation = 'sigmoid'))"
      ],
      "metadata": {
        "id": "gy2eBzzelrfb"
      },
      "execution_count": null,
      "outputs": []
    },
    {
      "cell_type": "code",
      "source": [
        "classifier.compile(optimizer = 'rmsprop', loss = 'binary_crossentropy', metrics = ['accuracy'])"
      ],
      "metadata": {
        "id": "e4CmNjA1l1eO"
      },
      "execution_count": null,
      "outputs": []
    },
    {
      "cell_type": "code",
      "source": [
        "classifier.fit(X_train, y_train, batch_size = 1, epochs = 25)"
      ],
      "metadata": {
        "colab": {
          "base_uri": "https://localhost:8080/"
        },
        "id": "2-NGz9TWl5Gz",
        "outputId": "299774f4-71bb-4d53-8da4-a37256859706"
      },
      "execution_count": null,
      "outputs": [
        {
          "output_type": "stream",
          "name": "stdout",
          "text": [
            "Epoch 1/25\n",
            "455/455 [==============================] - 4s 4ms/step - loss: 0.5814 - accuracy: 0.7604\n",
            "Epoch 2/25\n",
            "455/455 [==============================] - 1s 3ms/step - loss: 0.1334 - accuracy: 0.9626\n",
            "Epoch 3/25\n",
            "455/455 [==============================] - 2s 4ms/step - loss: 0.0886 - accuracy: 0.9736\n",
            "Epoch 4/25\n",
            "455/455 [==============================] - 3s 6ms/step - loss: 0.0993 - accuracy: 0.9780\n",
            "Epoch 5/25\n",
            "455/455 [==============================] - 2s 4ms/step - loss: 0.0945 - accuracy: 0.9780\n",
            "Epoch 6/25\n",
            "455/455 [==============================] - 1s 3ms/step - loss: 0.0934 - accuracy: 0.9802\n",
            "Epoch 7/25\n",
            "455/455 [==============================] - 2s 5ms/step - loss: 0.0942 - accuracy: 0.9846\n",
            "Epoch 8/25\n",
            "455/455 [==============================] - 2s 5ms/step - loss: 0.0898 - accuracy: 0.9846\n",
            "Epoch 9/25\n",
            "455/455 [==============================] - 1s 2ms/step - loss: 0.0902 - accuracy: 0.9846\n",
            "Epoch 10/25\n",
            "455/455 [==============================] - 1s 2ms/step - loss: 0.0978 - accuracy: 0.9890\n",
            "Epoch 11/25\n",
            "455/455 [==============================] - 1s 2ms/step - loss: 0.0929 - accuracy: 0.9868\n",
            "Epoch 12/25\n",
            "455/455 [==============================] - 1s 3ms/step - loss: 0.0928 - accuracy: 0.9890\n",
            "Epoch 13/25\n",
            "455/455 [==============================] - 2s 4ms/step - loss: 0.0891 - accuracy: 0.9868\n",
            "Epoch 14/25\n",
            "455/455 [==============================] - 3s 6ms/step - loss: 0.0899 - accuracy: 0.9890\n",
            "Epoch 15/25\n",
            "455/455 [==============================] - 2s 5ms/step - loss: 0.0936 - accuracy: 0.9890\n",
            "Epoch 16/25\n",
            "455/455 [==============================] - 1s 2ms/step - loss: 0.0847 - accuracy: 0.9890\n",
            "Epoch 17/25\n",
            "455/455 [==============================] - 1s 2ms/step - loss: 0.0824 - accuracy: 0.9890\n",
            "Epoch 18/25\n",
            "455/455 [==============================] - 1s 2ms/step - loss: 0.0836 - accuracy: 0.9890\n",
            "Epoch 19/25\n",
            "455/455 [==============================] - 1s 2ms/step - loss: 0.0728 - accuracy: 0.9890\n",
            "Epoch 20/25\n",
            "455/455 [==============================] - 1s 2ms/step - loss: 0.0751 - accuracy: 0.9890\n",
            "Epoch 21/25\n",
            "455/455 [==============================] - 1s 2ms/step - loss: 0.0757 - accuracy: 0.9890\n",
            "Epoch 22/25\n",
            "455/455 [==============================] - 1s 2ms/step - loss: 0.0691 - accuracy: 0.9912\n",
            "Epoch 23/25\n",
            "455/455 [==============================] - 1s 2ms/step - loss: 0.0681 - accuracy: 0.9912\n",
            "Epoch 24/25\n",
            "455/455 [==============================] - 1s 2ms/step - loss: 0.0776 - accuracy: 0.9890\n",
            "Epoch 25/25\n",
            "455/455 [==============================] - 1s 2ms/step - loss: 0.0705 - accuracy: 0.9912\n"
          ]
        },
        {
          "output_type": "execute_result",
          "data": {
            "text/plain": [
              "<keras.callbacks.History at 0x7ff3429abf70>"
            ]
          },
          "metadata": {},
          "execution_count": 9
        }
      ]
    },
    {
      "cell_type": "code",
      "source": [
        "classifier.evaluate(X_train,y_train)"
      ],
      "metadata": {
        "colab": {
          "base_uri": "https://localhost:8080/"
        },
        "id": "AsRBfDDXmJX-",
        "outputId": "85570687-c14c-4952-a25d-2effe1a2ec4d"
      },
      "execution_count": null,
      "outputs": [
        {
          "output_type": "stream",
          "name": "stdout",
          "text": [
            "15/15 [==============================] - 0s 2ms/step - loss: 0.0650 - accuracy: 0.9912\n"
          ]
        },
        {
          "output_type": "execute_result",
          "data": {
            "text/plain": [
              "[0.06495678424835205, 0.9912087917327881]"
            ]
          },
          "metadata": {},
          "execution_count": 10
        }
      ]
    },
    {
      "cell_type": "code",
      "source": [
        "from keras.models import load_model\n",
        "\n",
        "classifier.save('breast_cancer_model.h5') #Save trained ANN\n",
        "#classifier = load_model('breast_cancer_model.h5')  #Load trained ANN"
      ],
      "metadata": {
        "id": "fHS1LnaxmCh9"
      },
      "execution_count": null,
      "outputs": []
    },
    {
      "cell_type": "code",
      "source": [
        "y_pred = classifier.predict(X_test)\n",
        "y_pred = [ 1 if y>=0.92 else 0 for y in y_pred ]"
      ],
      "metadata": {
        "colab": {
          "base_uri": "https://localhost:8080/"
        },
        "id": "tNueyh1CmGnx",
        "outputId": "0796ac46-823d-40ef-e743-493c7dc718af"
      },
      "execution_count": null,
      "outputs": [
        {
          "output_type": "stream",
          "name": "stdout",
          "text": [
            "4/4 [==============================] - 0s 4ms/step\n"
          ]
        }
      ]
    },
    {
      "cell_type": "code",
      "source": [
        "from sklearn.metrics import confusion_matrix\n",
        "cm = confusion_matrix(y_test, y_pred)\n",
        "print(cm)\n",
        "\n",
        "accuracy = (cm[0][0]+cm[1][1])/(cm[0][0]+cm[0][1]+cm[1][0]+cm[1][1])\n",
        "print(\"Accuracy: \"+ str(accuracy*100)+\"%\")"
      ],
      "metadata": {
        "colab": {
          "base_uri": "https://localhost:8080/"
        },
        "id": "KHWs-_39mhG_",
        "outputId": "13d77baa-5676-4bf4-c565-3555794b9408"
      },
      "execution_count": null,
      "outputs": [
        {
          "output_type": "stream",
          "name": "stdout",
          "text": [
            "[[67  0]\n",
            " [ 3 44]]\n",
            "Accuracy: 97.36842105263158%\n"
          ]
        }
      ]
    }
  ]
}